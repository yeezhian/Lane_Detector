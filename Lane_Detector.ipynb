{
 "cells": [
  {
   "cell_type": "code",
   "execution_count": 2,
   "metadata": {},
   "outputs": [],
   "source": [
    "import cv2 as cv\n",
    "import numpy as np\n",
    "# import matplotlib.pyplot as plt\n",
    "\n",
    "def do_canny(frame):\n",
    "    # Converts frame to grayscale because we only need the luminance channel for detecting edges - less computationally expensive\n",
    "    gray = cv.cvtColor(frame, cv.COLOR_RGB2GRAY)\n",
    "    # Applies a 5x5 gaussian blur with deviation of 0 to frame - not mandatory since Canny will do this for us\n",
    "    blur = cv.GaussianBlur(gray, (5, 5), 0)\n",
    "    # Applies Canny edge detector with minVal of 50 and maxVal of 150\n",
    "    canny = cv.Canny(blur, 50, 150)\n",
    "    return canny"
   ]
  },
  {
   "cell_type": "code",
   "execution_count": 3,
   "metadata": {},
   "outputs": [],
   "source": [
    "def do_segment(frame):\n",
    "    # Since an image is a multi-directional array containing the relative intensities of each pixel in the image, we can use frame.shape to return a tuple: [number of rows, number of columns, number of channels] of the dimensions of the frame\n",
    "    # frame.shape[0] give us the number of rows of pixels the frame has. Since height begins from 0 at the top, the y-coordinate of the bottom of the frame is its height\n",
    "    height = frame.shape[0]\n",
    "    # Creates a triangular polygon for the mask defined by three (x, y) coordinates\n",
    "    polygons = np.array([\n",
    "                            [(0, height), (800, height), (380, 290)]\n",
    "                        ])\n",
    "    # Creates an image filled with zero intensities with the same dimensions as the frame\n",
    "    mask = np.zeros_like(frame)\n",
    "    # Allows the mask to be filled with values of 1 and the other areas to be filled with values of 0\n",
    "    cv.fillPoly(mask, polygons, 255)\n",
    "    # A bitwise and operation between the mask and frame keeps only the triangular area of the frame\n",
    "    segment = cv.bitwise_and(frame, mask)\n",
    "    return segment"
   ]
  },
  {
   "cell_type": "code",
   "execution_count": 4,
   "metadata": {},
   "outputs": [],
   "source": [
    "def calculate_lines(frame, lines):\n",
    "    # Empty arrays to store the coordinates of the left and right lines\n",
    "    left = []\n",
    "    right = []\n",
    "    # Loops through every detected line\n",
    "    for line in lines:\n",
    "        # Reshapes line from 2D array to 1D array\n",
    "        x1, y1, x2, y2 = line.reshape(4)\n",
    "        # Fits a linear polynomial to the x and y coordinates and returns a vector of coefficients which describe the slope and y-intercept\n",
    "        parameters = np.polyfit((x1, x2), (y1, y2), 1)\n",
    "        slope = parameters[0]\n",
    "        y_intercept = parameters[1]\n",
    "        # If slope is negative, the line is to the left of the lane, and otherwise, the line is to the right of the lane\n",
    "        if slope < 0:\n",
    "            left.append((slope, y_intercept))\n",
    "        else:\n",
    "            right.append((slope, y_intercept))\n",
    "    # Averages out all the values for left and right into a single slope and y-intercept value for each line\n",
    "    left_avg = np.average(left, axis = 0)\n",
    "    right_avg = np.average(right, axis = 0)\n",
    "    # Calculates the x1, y1, x2, y2 coordinates for the left and right lines\n",
    "    left_line = calculate_coordinates(frame, left_avg)\n",
    "    right_line = calculate_coordinates(frame, right_avg)\n",
    "    return np.array([left_line, right_line])"
   ]
  },
  {
   "cell_type": "code",
   "execution_count": 5,
   "metadata": {},
   "outputs": [],
   "source": [
    "def calculate_coordinates(frame, parameters):\n",
    "    slope, intercept = parameters\n",
    "    # Sets initial y-coordinate as height from top down (bottom of the frame)\n",
    "    y1 = frame.shape[0]\n",
    "    # Sets final y-coordinate as 150 above the bottom of the frame\n",
    "    y2 = int(y1 - 150)\n",
    "    # Sets initial x-coordinate as (y1 - b) / m since y1 = mx1 + b\n",
    "    x1 = int((y1 - intercept) / slope)\n",
    "    # Sets final x-coordinate as (y2 - b) / m since y2 = mx2 + b\n",
    "    x2 = int((y2 - intercept) / slope)\n",
    "    return np.array([x1, y1, x2, y2])\n"
   ]
  },
  {
   "cell_type": "code",
   "execution_count": 6,
   "metadata": {},
   "outputs": [],
   "source": [
    "\n",
    "def visualize_lines(frame, lines):\n",
    "    # Creates an image filled with zero intensities with the same dimensions as the frame\n",
    "    lines_visualize = np.zeros_like(frame)\n",
    "    # Checks if any lines are detected\n",
    "    if lines is not None:\n",
    "        for x1, y1, x2, y2 in lines:\n",
    "            # Draws lines between two coordinates with green color and 5 thickness\n",
    "            cv.line(lines_visualize, (x1, y1), (x2, y2), (0, 255, 0), 5)\n",
    "    return lines_visualize"
   ]
  },
  {
   "cell_type": "code",
   "execution_count": 1,
   "metadata": {},
   "outputs": [],
   "source": [
    "# The video feed is read in as a VideoCapture object\n",
    "cap = cv.VideoCapture(\"/Users/yeezhianliew/Downloads/input.mp4\")\n",
    "while (cap.isOpened()):\n",
    "    # ret = a boolean return value from getting the frame, frame = the current frame being projected in the video\n",
    "    ret, frame = cap.read()\n",
    "    canny = do_canny(frame)\n",
    "    cv.imshow(\"canny\", canny)\n",
    "    # plt.imshow(frame)\n",
    "    # plt.show()\n",
    "    segment = do_segment(canny)\n",
    "    \n",
    "    hough = cv.HoughLinesP(segment, 2, np.pi / 180, 100, np.array([]), minLineLength = 100, maxLineGap = 50)\n",
    "    # Averages multiple detected lines from hough into one line for left border of lane and one line for right border of lane\n",
    "    lines = calculate_lines(frame, hough)\n",
    "    # Visualizes the lines\n",
    "    lines_visualize = visualize_lines(frame, lines)\n",
    "    cv.imshow(\"hough\", lines_visualize)\n",
    "    # Overlays lines on frame by taking their weighted sums and adding an arbitrary scalar value of 1 as the gamma argument\n",
    "    output = cv.addWeighted(frame, 0.9, lines_visualize, 1, 1)\n",
    "    # Opens a new window and displays the output frame\n",
    "    cv.imshow(\"output\", output)\n",
    "    # Frames are read by intervals of 10 milliseconds. The programs breaks out of the while loop when the user presses the 'q' key\n",
    "    if cv.waitKey(10) & 0xFF == ord('q'):\n",
    "        break\n",
    "# The following frees up resources and closes all windows\n",
    "cap.release()\n",
    "cv.destroyAllWindows()"
   ]
  },
  {
   "cell_type": "code",
   "execution_count": null,
   "metadata": {},
   "outputs": [],
   "source": []
  },
  {
   "cell_type": "code",
   "execution_count": null,
   "metadata": {},
   "outputs": [],
   "source": []
  }
 ],
 "metadata": {
  "kernelspec": {
   "display_name": "Python 3",
   "language": "python",
   "name": "python3"
  },
  "language_info": {
   "codemirror_mode": {
    "name": "ipython",
    "version": 3
   },
   "file_extension": ".py",
   "mimetype": "text/x-python",
   "name": "python",
   "nbconvert_exporter": "python",
   "pygments_lexer": "ipython3",
   "version": "3.6.5"
  }
 },
 "nbformat": 4,
 "nbformat_minor": 2
}
